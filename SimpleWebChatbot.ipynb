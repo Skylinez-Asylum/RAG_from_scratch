{
  "nbformat": 4,
  "nbformat_minor": 0,
  "metadata": {
    "colab": {
      "provenance": []
    },
    "kernelspec": {
      "name": "python3",
      "display_name": "Python 3"
    },
    "language_info": {
      "name": "python"
    }
  },
  "cells": [
    {
      "cell_type": "code",
      "execution_count": null,
      "metadata": {
        "id": "2rmJb6-I5qMI"
      },
      "outputs": [],
      "source": [
        "!pip install langchain"
      ]
    },
    {
      "cell_type": "code",
      "source": [
        "from langchain_community.document_loaders import WebBaseLoader\n",
        "loader = WebBaseLoader(\n",
        "        web_paths=(\"https://www.sctce.ac.in/cs.php\",),\n",
        "    )\n",
        "docs = loader.load()\n",
        "print(docs)"
      ],
      "metadata": {
        "colab": {
          "base_uri": "https://localhost:8080/"
        },
        "id": "s0IcVbmz5xBW",
        "outputId": "b394396d-46e0-4bbd-e5fd-7dfa97d26924"
      },
      "execution_count": null,
      "outputs": [
        {
          "output_type": "stream",
          "name": "stdout",
          "text": [
            "[Document(page_content=\"\\n\\n\\n\\nSCTE\\n\\n\\n\\n\\n\\n\\n\\n\\n\\n\\n\\n\\n\\n\\n\\n\\n\\n\\n\\n\\n\\n\\n\\n\\n\\n\\n\\n\\n\\n\\n\\n\\n\\n\\n\\n\\n\\n\\n\\n\\n\\n\\n\\nHome\\n\\nFaculty\\n\\nTechnical Staff\\n\\nFacilities\\n\\nActivities\\n\\nLANSCAPE\\nAMAS\\nIEEE\\nCSI\\nGoogleDevelopers\\nWorkshops\\n\\n\\nHighlights\\n\\nPlacement Statistics\\nPublications\\nAchievements\\nDistinguished Alumni\\n\\n\\nPlacement\\n\\nDQAC\\n\\nDownloads\\n\\n\\n\\n\\n\\n\\n\\n\\n\\n\\n\\n\\n\\n\\nHome\\n\\nFaculty\\n\\nTechnical Staff\\n\\nFacilities\\n\\nActivities\\n\\nLANSCAPE\\nAMAS\\nIEEE\\nCSI\\nGoogleDevelopers\\nWorkshops\\n\\n\\nHighlights\\n\\nPlacement Statistics\\nPublications\\nAchievements\\nDistinguished Alumni\\n\\n\\nPlacement\\n\\nDQAC\\n\\nDownloads\\n\\n\\n\\n\\n\\n\\n\\n\\n\\n\\n\\n\\n\\n\\n\\n\\n\\n\\n\\n\\n\\n\\n\\n\\n\\n\\n\\n\\n\\n\\n\\n\\n\\n\\n\\n\\n\\n\\n\\n\\n\\n\\n\\n\\n\\n\\n\\n        Computer Science & Engineering\\n\\n\\n\\n\\n\\n\\n\\nAbout Department \\nThe B.Tech and M.Tech programmes in computer science and engineering were started in 1995 and\\n2010, respectively, and the department promotes value-based, quality education in the developing fields\\nof computer science and information technology. The B.Tech course in computer science and\\nengineering is accredited by the National Board of Accreditation (NBA). In the year 2020, the B.Tech\\nprogramme in Computer Science & Engineering (Artificial Intelligence and Machine Learning) began.\\nUnder the auspices of APJ Abdul Kalam Technological University, Kerala (KTU), our department is a\\nrecognised research centre.\\nThe department comprises seven laboratories with cutting-edge technology and a department library\\nwith books for study and other materials. To keep up with the fast evolving technological landscape,\\nthe department is regularly updating its lab infrastructure. Our graduates have represented the\\ndepartment with pride by holding prominent positions in businesses and public and private\\norganisations. The department's main goals include the development of students through challenging\\ncoursework, engaging research, and the teaching of skills that meet industry standards. Students have\\nthe option of gaining access to IEEE, Springer, and Science Direct's online journals. Students are\\nencouraged to take part in intercollegiate technical and cultural competitions. In the national level\\nproject competition held by CSI-Inapp in 2019 and 2020, our students took first place. Additionally, a\\nnumber of projects have been praised.\\nThe Department places a high priority on the planning of workshops, seminars, industrial visits, and\\ninternship programmes to encourage students to think outside the box and be more in tune with current\\nbusiness trends. Tata Elxsi is offering internships to 20 Department final-year students in exchange for\\na respectable salary. In addition to offering opportunities for students to advance their technical\\nabilities, the Department also hosts very active chapters of professional organisations like IEEE and\\nCSI. Students regularly contact with alumni to receive support and gain exposure to the industry and\\nother disciplines. The two active student organisations in our department are Lanscape and AMAS, and\\nthey regularly hold technical workshops and expert speeches.\\nMajor Recruiters \\n\\n\\nProgram Educational Objectives\\nProgram Outcomes  (PSOs)\\n\\nOrganizational Structure\\n\\n\\n\\n\\n\\n\\n\\n\\n\\nHead of the Department\\n\\n\\n\\n\\nRejimol Robinson R R\\n\\n\\n\\n\\n View Profile\\n\\n\\n\\nLatest News\\n\\n\\n\\n\\n\\nVision:\\n\\xa0\\xa0\\xa0 \\xa0 To be a premier centre for education and research in the field of Computer \\nScience and Engineering.\\n\\nMission:\\n To impart sound knowledge on Computing and Engineering principles to design \\nand develop feasible solutions.\\n To instill in students an aptitude for research and entrepreneurship.\\n To inculcate in students an attitude of lifelong learning and problem solving.\\n To mould students into excellent professionals and good social beings\\n\\n\\n\\n  Gallery\\n  Events\\n Distinguished Alumni\\n\\n\\n\\n\\n\\n\\n\\n Recruitment Details\\n\\n\\n2021 – 22\\n 2020 – 21\\n 2019 – 20\\n 2018 – 19\\n 2017 – 18\\n  2016 – 17\\n  2015 – 16\\n\\n\\n\\n\\n\\n\\n\\n\\n\\n\\n\\n\\n\\n\\n\\n\\n\\nKerala Technological University\\nAICTE Feedback\\nContact Us\\n\\n\\n\\n\\n\\n\\n\\n\\n\\n\\n\\n\\n\\n\\n\\n\\n\\nContact Us\\nSree Chitra Thirunal College Of Engineering Pappanamcode Thiruvananthapuram kerala -695018\\n\\n  +91-471-2490572\\n principal@sctce.ac.in\\n\\n\\n\\n\\nDisclosure\\n\\nCampus Login\\nRTI\\nTenders\\nResources\\nDisclosures\\nStudents Corner\\n Gender Justice Forum\\n\\n\\n\\n\\n\\n\\n\\nGrievance Redressal Cell\\nSC/ST/OBC Cell\\ninternal Complaint Committees\\nService Rule\\nNIRF 2023\\nARIIA 2021 Report\\nMTECH Admission 2023 Prospectus\\n\\n\\n\\n\\n\\n\\n\\t\\t\\t\\t\\t\\t\\t\\t\\tLocation Map\\n\\n\\n\\n\\n\\n\\n\\n© Copyright reseved 2023 , Designed by   Etuwa concepts\\n\\n\\n\\n\\n\\n\\n\\n\\n\\n\\n\\n\\n\\n\\n\\n\\n\\n\\n\\n\\n\\n\\n\\n\\n\\n\\n\\n\\n\\n\\n\\n\\n\\n\\n\\n\", metadata={'source': 'https://www.sctce.ac.in/cs.php', 'title': 'SCTE', 'description': '', 'language': 'No language found.'})]\n"
          ]
        }
      ]
    },
    {
      "cell_type": "code",
      "source": [
        "from langchain.text_splitter import RecursiveCharacterTextSplitter\n"
      ],
      "metadata": {
        "id": "QLDigGNs6HGo"
      },
      "execution_count": null,
      "outputs": []
    },
    {
      "cell_type": "code",
      "source": [
        "text_splitter = RecursiveCharacterTextSplitter(chunk_size=1000, chunk_overlap=200)\n",
        "splits = text_splitter.split_documents(docs)\n",
        "print(splits)"
      ],
      "metadata": {
        "colab": {
          "base_uri": "https://localhost:8080/"
        },
        "id": "RpwUIpUF6Wyb",
        "outputId": "b5e2b891-0cb9-4a03-92a8-ce1c26949b1d"
      },
      "execution_count": null,
      "outputs": [
        {
          "output_type": "stream",
          "name": "stdout",
          "text": [
            "[Document(page_content='SCTE\\n\\n\\n\\n\\n\\n\\n\\n\\n\\n\\n\\n\\n\\n\\n\\n\\n\\n\\n\\n\\n\\n\\n\\n\\n\\n\\n\\n\\n\\n\\n\\n\\n\\n\\n\\n\\n\\n\\n\\n\\n\\n\\n\\nHome\\n\\nFaculty\\n\\nTechnical Staff\\n\\nFacilities\\n\\nActivities\\n\\nLANSCAPE\\nAMAS\\nIEEE\\nCSI\\nGoogleDevelopers\\nWorkshops\\n\\n\\nHighlights\\n\\nPlacement Statistics\\nPublications\\nAchievements\\nDistinguished Alumni\\n\\n\\nPlacement\\n\\nDQAC\\n\\nDownloads\\n\\n\\n\\n\\n\\n\\n\\n\\n\\n\\n\\n\\n\\n\\nHome\\n\\nFaculty\\n\\nTechnical Staff\\n\\nFacilities\\n\\nActivities\\n\\nLANSCAPE\\nAMAS\\nIEEE\\nCSI\\nGoogleDevelopers\\nWorkshops\\n\\n\\nHighlights\\n\\nPlacement Statistics\\nPublications\\nAchievements\\nDistinguished Alumni\\n\\n\\nPlacement\\n\\nDQAC\\n\\nDownloads\\n\\n\\n\\n\\n\\n\\n\\n\\n\\n\\n\\n\\n\\n\\n\\n\\n\\n\\n\\n\\n\\n\\n\\n\\n\\n\\n\\n\\n\\n\\n\\n\\n\\n\\n\\n\\n\\n\\n\\n\\n\\n\\n\\n\\n\\n\\n\\n        Computer Science & Engineering', metadata={'source': 'https://www.sctce.ac.in/cs.php', 'title': 'SCTE', 'description': '', 'language': 'No language found.'}), Document(page_content='About Department \\nThe B.Tech and M.Tech programmes in computer science and engineering were started in 1995 and\\n2010, respectively, and the department promotes value-based, quality education in the developing fields\\nof computer science and information technology. The B.Tech course in computer science and\\nengineering is accredited by the National Board of Accreditation (NBA). In the year 2020, the B.Tech\\nprogramme in Computer Science & Engineering (Artificial Intelligence and Machine Learning) began.\\nUnder the auspices of APJ Abdul Kalam Technological University, Kerala (KTU), our department is a\\nrecognised research centre.\\nThe department comprises seven laboratories with cutting-edge technology and a department library\\nwith books for study and other materials. To keep up with the fast evolving technological landscape,\\nthe department is regularly updating its lab infrastructure. Our graduates have represented the', metadata={'source': 'https://www.sctce.ac.in/cs.php', 'title': 'SCTE', 'description': '', 'language': 'No language found.'}), Document(page_content=\"with books for study and other materials. To keep up with the fast evolving technological landscape,\\nthe department is regularly updating its lab infrastructure. Our graduates have represented the\\ndepartment with pride by holding prominent positions in businesses and public and private\\norganisations. The department's main goals include the development of students through challenging\\ncoursework, engaging research, and the teaching of skills that meet industry standards. Students have\\nthe option of gaining access to IEEE, Springer, and Science Direct's online journals. Students are\\nencouraged to take part in intercollegiate technical and cultural competitions. In the national level\\nproject competition held by CSI-Inapp in 2019 and 2020, our students took first place. Additionally, a\\nnumber of projects have been praised.\\nThe Department places a high priority on the planning of workshops, seminars, industrial visits, and\", metadata={'source': 'https://www.sctce.ac.in/cs.php', 'title': 'SCTE', 'description': '', 'language': 'No language found.'}), Document(page_content='number of projects have been praised.\\nThe Department places a high priority on the planning of workshops, seminars, industrial visits, and\\ninternship programmes to encourage students to think outside the box and be more in tune with current\\nbusiness trends. Tata Elxsi is offering internships to 20 Department final-year students in exchange for\\na respectable salary. In addition to offering opportunities for students to advance their technical\\nabilities, the Department also hosts very active chapters of professional organisations like IEEE and\\nCSI. Students regularly contact with alumni to receive support and gain exposure to the industry and\\nother disciplines. The two active student organisations in our department are Lanscape and AMAS, and\\nthey regularly hold technical workshops and expert speeches.\\nMajor Recruiters', metadata={'source': 'https://www.sctce.ac.in/cs.php', 'title': 'SCTE', 'description': '', 'language': 'No language found.'}), Document(page_content='Program Educational Objectives\\nProgram Outcomes  (PSOs)\\n\\nOrganizational Structure\\n\\n\\n\\n\\n\\n\\n\\n\\n\\nHead of the Department\\n\\n\\n\\n\\nRejimol Robinson R R\\n\\n\\n\\n\\n View Profile\\n\\n\\n\\nLatest News\\n\\n\\n\\n\\n\\nVision:\\n\\xa0\\xa0\\xa0 \\xa0 To be a premier centre for education and research in the field of Computer \\nScience and Engineering.\\n\\nMission:\\n To impart sound knowledge on Computing and Engineering principles to design \\nand develop feasible solutions.\\n To instill in students an aptitude for research and entrepreneurship.\\n To inculcate in students an attitude of lifelong learning and problem solving.\\n To mould students into excellent professionals and good social beings\\n\\n\\n\\n  Gallery\\n  Events\\n Distinguished Alumni\\n\\n\\n\\n\\n\\n\\n\\n Recruitment Details\\n\\n\\n2021 – 22\\n 2020 – 21\\n 2019 – 20\\n 2018 – 19\\n 2017 – 18\\n  2016 – 17\\n  2015 – 16\\n\\n\\n\\n\\n\\n\\n\\n\\n\\n\\n\\n\\n\\n\\n\\n\\n\\nKerala Technological University\\nAICTE Feedback\\nContact Us\\n\\n\\n\\n\\n\\n\\n\\n\\n\\n\\n\\n\\n\\n\\n\\n\\n\\nContact Us\\nSree Chitra Thirunal College Of Engineering Pappanamcode Thiruvananthapuram kerala -695018', metadata={'source': 'https://www.sctce.ac.in/cs.php', 'title': 'SCTE', 'description': '', 'language': 'No language found.'}), Document(page_content='Kerala Technological University\\nAICTE Feedback\\nContact Us\\n\\n\\n\\n\\n\\n\\n\\n\\n\\n\\n\\n\\n\\n\\n\\n\\n\\nContact Us\\nSree Chitra Thirunal College Of Engineering Pappanamcode Thiruvananthapuram kerala -695018\\n\\n  +91-471-2490572\\n principal@sctce.ac.in\\n\\n\\n\\n\\nDisclosure\\n\\nCampus Login\\nRTI\\nTenders\\nResources\\nDisclosures\\nStudents Corner\\n Gender Justice Forum\\n\\n\\n\\n\\n\\n\\n\\nGrievance Redressal Cell\\nSC/ST/OBC Cell\\ninternal Complaint Committees\\nService Rule\\nNIRF 2023\\nARIIA 2021 Report\\nMTECH Admission 2023 Prospectus\\n\\n\\n\\n\\n\\n\\n\\t\\t\\t\\t\\t\\t\\t\\t\\tLocation Map\\n\\n\\n\\n\\n\\n\\n\\n© Copyright reseved 2023 , Designed by   Etuwa concepts', metadata={'source': 'https://www.sctce.ac.in/cs.php', 'title': 'SCTE', 'description': '', 'language': 'No language found.'})]\n"
          ]
        }
      ]
    },
    {
      "cell_type": "code",
      "source": [
        "!pip install chromadb"
      ],
      "metadata": {
        "id": "h_TGF58r6Ylq"
      },
      "execution_count": null,
      "outputs": []
    },
    {
      "cell_type": "code",
      "source": [
        "!pip install langchain_cohere"
      ],
      "metadata": {
        "colab": {
          "base_uri": "https://localhost:8080/"
        },
        "id": "CpC-G-f67ETB",
        "outputId": "7c6275a0-0a2e-4266-958a-fb1ef62a7845"
      },
      "execution_count": null,
      "outputs": [
        {
          "output_type": "stream",
          "name": "stdout",
          "text": [
            "Collecting langchain_cohere\n",
            "  Downloading langchain_cohere-0.1.3-py3-none-any.whl (29 kB)\n",
            "Collecting cohere<6.0,>=5.3 (from langchain_cohere)\n",
            "  Downloading cohere-5.3.2-py3-none-any.whl (150 kB)\n",
            "\u001b[2K     \u001b[90m━━━━━━━━━━━━━━━━━━━━━━━━━━━━━━━━━━━━━━━━\u001b[0m \u001b[32m150.3/150.3 kB\u001b[0m \u001b[31m2.3 MB/s\u001b[0m eta \u001b[36m0:00:00\u001b[0m\n",
            "\u001b[?25hRequirement already satisfied: langchain-core<0.2.0,>=0.1.42 in /usr/local/lib/python3.10/dist-packages (from langchain_cohere) (0.1.45)\n",
            "Collecting fastavro<2.0.0,>=1.9.4 (from cohere<6.0,>=5.3->langchain_cohere)\n",
            "  Downloading fastavro-1.9.4-cp310-cp310-manylinux_2_17_x86_64.manylinux2014_x86_64.whl (3.1 MB)\n",
            "\u001b[2K     \u001b[90m━━━━━━━━━━━━━━━━━━━━━━━━━━━━━━━━━━━━━━━━\u001b[0m \u001b[32m3.1/3.1 MB\u001b[0m \u001b[31m19.9 MB/s\u001b[0m eta \u001b[36m0:00:00\u001b[0m\n",
            "\u001b[?25hCollecting httpx>=0.21.2 (from cohere<6.0,>=5.3->langchain_cohere)\n",
            "  Downloading httpx-0.27.0-py3-none-any.whl (75 kB)\n",
            "\u001b[2K     \u001b[90m━━━━━━━━━━━━━━━━━━━━━━━━━━━━━━━━━━━━━━━━\u001b[0m \u001b[32m75.6/75.6 kB\u001b[0m \u001b[31m8.6 MB/s\u001b[0m eta \u001b[36m0:00:00\u001b[0m\n",
            "\u001b[?25hCollecting httpx-sse<0.5.0,>=0.4.0 (from cohere<6.0,>=5.3->langchain_cohere)\n",
            "  Downloading httpx_sse-0.4.0-py3-none-any.whl (7.8 kB)\n",
            "Requirement already satisfied: pydantic>=1.9.2 in /usr/local/lib/python3.10/dist-packages (from cohere<6.0,>=5.3->langchain_cohere) (2.7.0)\n",
            "Requirement already satisfied: requests<3.0.0,>=2.0.0 in /usr/local/lib/python3.10/dist-packages (from cohere<6.0,>=5.3->langchain_cohere) (2.31.0)\n",
            "Requirement already satisfied: tokenizers<0.16.0,>=0.15.2 in /usr/local/lib/python3.10/dist-packages (from cohere<6.0,>=5.3->langchain_cohere) (0.15.2)\n",
            "Collecting types-requests<3.0.0,>=2.0.0 (from cohere<6.0,>=5.3->langchain_cohere)\n",
            "  Downloading types_requests-2.31.0.20240406-py3-none-any.whl (15 kB)\n",
            "Requirement already satisfied: typing_extensions>=4.0.0 in /usr/local/lib/python3.10/dist-packages (from cohere<6.0,>=5.3->langchain_cohere) (4.11.0)\n",
            "Requirement already satisfied: PyYAML>=5.3 in /usr/local/lib/python3.10/dist-packages (from langchain-core<0.2.0,>=0.1.42->langchain_cohere) (6.0.1)\n",
            "Requirement already satisfied: jsonpatch<2.0,>=1.33 in /usr/local/lib/python3.10/dist-packages (from langchain-core<0.2.0,>=0.1.42->langchain_cohere) (1.33)\n",
            "Requirement already satisfied: langsmith<0.2.0,>=0.1.0 in /usr/local/lib/python3.10/dist-packages (from langchain-core<0.2.0,>=0.1.42->langchain_cohere) (0.1.49)\n",
            "Requirement already satisfied: packaging<24.0,>=23.2 in /usr/local/lib/python3.10/dist-packages (from langchain-core<0.2.0,>=0.1.42->langchain_cohere) (23.2)\n",
            "Requirement already satisfied: tenacity<9.0.0,>=8.1.0 in /usr/local/lib/python3.10/dist-packages (from langchain-core<0.2.0,>=0.1.42->langchain_cohere) (8.2.3)\n",
            "Requirement already satisfied: anyio in /usr/local/lib/python3.10/dist-packages (from httpx>=0.21.2->cohere<6.0,>=5.3->langchain_cohere) (3.7.1)\n",
            "Requirement already satisfied: certifi in /usr/local/lib/python3.10/dist-packages (from httpx>=0.21.2->cohere<6.0,>=5.3->langchain_cohere) (2024.2.2)\n",
            "Collecting httpcore==1.* (from httpx>=0.21.2->cohere<6.0,>=5.3->langchain_cohere)\n",
            "  Downloading httpcore-1.0.5-py3-none-any.whl (77 kB)\n",
            "\u001b[2K     \u001b[90m━━━━━━━━━━━━━━━━━━━━━━━━━━━━━━━━━━━━━━━━\u001b[0m \u001b[32m77.9/77.9 kB\u001b[0m \u001b[31m9.5 MB/s\u001b[0m eta \u001b[36m0:00:00\u001b[0m\n",
            "\u001b[?25hRequirement already satisfied: idna in /usr/local/lib/python3.10/dist-packages (from httpx>=0.21.2->cohere<6.0,>=5.3->langchain_cohere) (3.7)\n",
            "Requirement already satisfied: sniffio in /usr/local/lib/python3.10/dist-packages (from httpx>=0.21.2->cohere<6.0,>=5.3->langchain_cohere) (1.3.1)\n",
            "Requirement already satisfied: h11<0.15,>=0.13 in /usr/local/lib/python3.10/dist-packages (from httpcore==1.*->httpx>=0.21.2->cohere<6.0,>=5.3->langchain_cohere) (0.14.0)\n",
            "Requirement already satisfied: jsonpointer>=1.9 in /usr/local/lib/python3.10/dist-packages (from jsonpatch<2.0,>=1.33->langchain-core<0.2.0,>=0.1.42->langchain_cohere) (2.4)\n",
            "Requirement already satisfied: orjson<4.0.0,>=3.9.14 in /usr/local/lib/python3.10/dist-packages (from langsmith<0.2.0,>=0.1.0->langchain-core<0.2.0,>=0.1.42->langchain_cohere) (3.10.1)\n",
            "Requirement already satisfied: annotated-types>=0.4.0 in /usr/local/lib/python3.10/dist-packages (from pydantic>=1.9.2->cohere<6.0,>=5.3->langchain_cohere) (0.6.0)\n",
            "Requirement already satisfied: pydantic-core==2.18.1 in /usr/local/lib/python3.10/dist-packages (from pydantic>=1.9.2->cohere<6.0,>=5.3->langchain_cohere) (2.18.1)\n",
            "Requirement already satisfied: charset-normalizer<4,>=2 in /usr/local/lib/python3.10/dist-packages (from requests<3.0.0,>=2.0.0->cohere<6.0,>=5.3->langchain_cohere) (3.3.2)\n",
            "Requirement already satisfied: urllib3<3,>=1.21.1 in /usr/local/lib/python3.10/dist-packages (from requests<3.0.0,>=2.0.0->cohere<6.0,>=5.3->langchain_cohere) (2.0.7)\n",
            "Requirement already satisfied: huggingface_hub<1.0,>=0.16.4 in /usr/local/lib/python3.10/dist-packages (from tokenizers<0.16.0,>=0.15.2->cohere<6.0,>=5.3->langchain_cohere) (0.20.3)\n",
            "Requirement already satisfied: filelock in /usr/local/lib/python3.10/dist-packages (from huggingface_hub<1.0,>=0.16.4->tokenizers<0.16.0,>=0.15.2->cohere<6.0,>=5.3->langchain_cohere) (3.13.4)\n",
            "Requirement already satisfied: fsspec>=2023.5.0 in /usr/local/lib/python3.10/dist-packages (from huggingface_hub<1.0,>=0.16.4->tokenizers<0.16.0,>=0.15.2->cohere<6.0,>=5.3->langchain_cohere) (2023.6.0)\n",
            "Requirement already satisfied: tqdm>=4.42.1 in /usr/local/lib/python3.10/dist-packages (from huggingface_hub<1.0,>=0.16.4->tokenizers<0.16.0,>=0.15.2->cohere<6.0,>=5.3->langchain_cohere) (4.66.2)\n",
            "Requirement already satisfied: exceptiongroup in /usr/local/lib/python3.10/dist-packages (from anyio->httpx>=0.21.2->cohere<6.0,>=5.3->langchain_cohere) (1.2.0)\n",
            "Installing collected packages: types-requests, httpx-sse, httpcore, fastavro, httpx, cohere, langchain_cohere\n",
            "Successfully installed cohere-5.3.2 fastavro-1.9.4 httpcore-1.0.5 httpx-0.27.0 httpx-sse-0.4.0 langchain_cohere-0.1.3 types-requests-2.31.0.20240406\n"
          ]
        }
      ]
    },
    {
      "cell_type": "code",
      "source": [
        "from langchain_community.vectorstores import Chroma\n",
        "from langchain_cohere import CohereEmbeddings\n",
        "cohere_api_key = \"5cCrtFbe3SSTS0sOXx7bxsqRpS0Csyp1YzU5BvHN\"\n",
        "embeddings = CohereEmbeddings(model=\"embed-english-light-v3.0\",cohere_api_key=cohere_api_key)\n",
        "vectorstore = Chroma.from_documents(documents=splits, embedding=embeddings)"
      ],
      "metadata": {
        "id": "dFfKjNyq6lv-"
      },
      "execution_count": null,
      "outputs": []
    },
    {
      "cell_type": "code",
      "source": [
        "!pip install langchain-groq"
      ],
      "metadata": {
        "colab": {
          "base_uri": "https://localhost:8080/"
        },
        "id": "K0yIZ3E86u9M",
        "outputId": "81912202-1b02-4a92-d322-150c96a98b8f"
      },
      "execution_count": null,
      "outputs": [
        {
          "output_type": "stream",
          "name": "stdout",
          "text": [
            "Collecting langchain-groq\n",
            "  Downloading langchain_groq-0.1.2-py3-none-any.whl (11 kB)\n",
            "Collecting groq<1,>=0.4.1 (from langchain-groq)\n",
            "  Downloading groq-0.5.0-py3-none-any.whl (75 kB)\n",
            "\u001b[2K     \u001b[90m━━━━━━━━━━━━━━━━━━━━━━━━━━━━━━━━━━━━━━━━\u001b[0m \u001b[32m75.0/75.0 kB\u001b[0m \u001b[31m1.2 MB/s\u001b[0m eta \u001b[36m0:00:00\u001b[0m\n",
            "\u001b[?25hRequirement already satisfied: langchain-core<0.2.0,>=0.1.42 in /usr/local/lib/python3.10/dist-packages (from langchain-groq) (0.1.45)\n",
            "Requirement already satisfied: anyio<5,>=3.5.0 in /usr/local/lib/python3.10/dist-packages (from groq<1,>=0.4.1->langchain-groq) (3.7.1)\n",
            "Requirement already satisfied: distro<2,>=1.7.0 in /usr/lib/python3/dist-packages (from groq<1,>=0.4.1->langchain-groq) (1.7.0)\n",
            "Requirement already satisfied: httpx<1,>=0.23.0 in /usr/local/lib/python3.10/dist-packages (from groq<1,>=0.4.1->langchain-groq) (0.27.0)\n",
            "Requirement already satisfied: pydantic<3,>=1.9.0 in /usr/local/lib/python3.10/dist-packages (from groq<1,>=0.4.1->langchain-groq) (2.7.0)\n",
            "Requirement already satisfied: sniffio in /usr/local/lib/python3.10/dist-packages (from groq<1,>=0.4.1->langchain-groq) (1.3.1)\n",
            "Requirement already satisfied: typing-extensions<5,>=4.7 in /usr/local/lib/python3.10/dist-packages (from groq<1,>=0.4.1->langchain-groq) (4.11.0)\n",
            "Requirement already satisfied: PyYAML>=5.3 in /usr/local/lib/python3.10/dist-packages (from langchain-core<0.2.0,>=0.1.42->langchain-groq) (6.0.1)\n",
            "Requirement already satisfied: jsonpatch<2.0,>=1.33 in /usr/local/lib/python3.10/dist-packages (from langchain-core<0.2.0,>=0.1.42->langchain-groq) (1.33)\n",
            "Requirement already satisfied: langsmith<0.2.0,>=0.1.0 in /usr/local/lib/python3.10/dist-packages (from langchain-core<0.2.0,>=0.1.42->langchain-groq) (0.1.49)\n",
            "Requirement already satisfied: packaging<24.0,>=23.2 in /usr/local/lib/python3.10/dist-packages (from langchain-core<0.2.0,>=0.1.42->langchain-groq) (23.2)\n",
            "Requirement already satisfied: tenacity<9.0.0,>=8.1.0 in /usr/local/lib/python3.10/dist-packages (from langchain-core<0.2.0,>=0.1.42->langchain-groq) (8.2.3)\n",
            "Requirement already satisfied: idna>=2.8 in /usr/local/lib/python3.10/dist-packages (from anyio<5,>=3.5.0->groq<1,>=0.4.1->langchain-groq) (3.7)\n",
            "Requirement already satisfied: exceptiongroup in /usr/local/lib/python3.10/dist-packages (from anyio<5,>=3.5.0->groq<1,>=0.4.1->langchain-groq) (1.2.0)\n",
            "Requirement already satisfied: certifi in /usr/local/lib/python3.10/dist-packages (from httpx<1,>=0.23.0->groq<1,>=0.4.1->langchain-groq) (2024.2.2)\n",
            "Requirement already satisfied: httpcore==1.* in /usr/local/lib/python3.10/dist-packages (from httpx<1,>=0.23.0->groq<1,>=0.4.1->langchain-groq) (1.0.5)\n",
            "Requirement already satisfied: h11<0.15,>=0.13 in /usr/local/lib/python3.10/dist-packages (from httpcore==1.*->httpx<1,>=0.23.0->groq<1,>=0.4.1->langchain-groq) (0.14.0)\n",
            "Requirement already satisfied: jsonpointer>=1.9 in /usr/local/lib/python3.10/dist-packages (from jsonpatch<2.0,>=1.33->langchain-core<0.2.0,>=0.1.42->langchain-groq) (2.4)\n",
            "Requirement already satisfied: orjson<4.0.0,>=3.9.14 in /usr/local/lib/python3.10/dist-packages (from langsmith<0.2.0,>=0.1.0->langchain-core<0.2.0,>=0.1.42->langchain-groq) (3.10.1)\n",
            "Requirement already satisfied: requests<3,>=2 in /usr/local/lib/python3.10/dist-packages (from langsmith<0.2.0,>=0.1.0->langchain-core<0.2.0,>=0.1.42->langchain-groq) (2.31.0)\n",
            "Requirement already satisfied: annotated-types>=0.4.0 in /usr/local/lib/python3.10/dist-packages (from pydantic<3,>=1.9.0->groq<1,>=0.4.1->langchain-groq) (0.6.0)\n",
            "Requirement already satisfied: pydantic-core==2.18.1 in /usr/local/lib/python3.10/dist-packages (from pydantic<3,>=1.9.0->groq<1,>=0.4.1->langchain-groq) (2.18.1)\n",
            "Requirement already satisfied: charset-normalizer<4,>=2 in /usr/local/lib/python3.10/dist-packages (from requests<3,>=2->langsmith<0.2.0,>=0.1.0->langchain-core<0.2.0,>=0.1.42->langchain-groq) (3.3.2)\n",
            "Requirement already satisfied: urllib3<3,>=1.21.1 in /usr/local/lib/python3.10/dist-packages (from requests<3,>=2->langsmith<0.2.0,>=0.1.0->langchain-core<0.2.0,>=0.1.42->langchain-groq) (2.0.7)\n",
            "Installing collected packages: groq, langchain-groq\n",
            "Successfully installed groq-0.5.0 langchain-groq-0.1.2\n"
          ]
        }
      ]
    },
    {
      "cell_type": "code",
      "source": [
        "\n",
        "from langchain_core.prompts import ChatPromptTemplate\n",
        "from langchain_groq import ChatGroq\n",
        "groq_api_key=\"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\"\n",
        "chat = ChatGroq(temperature=0, groq_api_key=groq_api_key, model_name=\"llama3-70b-8192\")"
      ],
      "metadata": {
        "id": "dw3fzmyo8-dk"
      },
      "execution_count": null,
      "outputs": []
    },
    {
      "cell_type": "code",
      "source": [
        " def format_docs(docs):\n",
        "        return \"\\n\\n\".join(doc.page_content for doc in docs)"
      ],
      "metadata": {
        "id": "jDS_U5eS9Yj6"
      },
      "execution_count": null,
      "outputs": []
    },
    {
      "cell_type": "code",
      "source": [
        "from langchain_core.prompts import PromptTemplate\n",
        "from langchain_core.messages import HumanMessage, SystemMessage\n",
        "template = \"\"\"Use the following pieces of context to answer the question at the end.\n",
        "              Say that you don't know when asked a question you don't know, donot make up an answer. Be precise and concise in your answer.\n",
        "\n",
        "             {context}\n",
        "\n",
        "             Question: {question}\n",
        "\n",
        "             Helpful Answer:\"\"\"\n",
        "\n",
        "    # Add the context to your user query\n",
        "custom_rag_prompt = PromptTemplate.from_template(template)"
      ],
      "metadata": {
        "id": "NotInBZs9gkX"
      },
      "execution_count": null,
      "outputs": []
    },
    {
      "cell_type": "code",
      "source": [
        "!pip install langchainhub\n",
        "from langchain import hub\n",
        "retriever = vectorstore.as_retriever(search_type=\"similarity\")\n",
        "prompt = hub.pull(\"rlm/rag-prompt\")"
      ],
      "metadata": {
        "colab": {
          "base_uri": "https://localhost:8080/"
        },
        "id": "6trFm8OK-Jcz",
        "outputId": "a86a8d24-3c7e-48cc-8750-d4ebcdfa44cb"
      },
      "execution_count": null,
      "outputs": [
        {
          "output_type": "stream",
          "name": "stdout",
          "text": [
            "Collecting langchainhub\n",
            "  Downloading langchainhub-0.1.15-py3-none-any.whl (4.6 kB)\n",
            "Requirement already satisfied: requests<3,>=2 in /usr/local/lib/python3.10/dist-packages (from langchainhub) (2.31.0)\n",
            "Requirement already satisfied: types-requests<3.0.0.0,>=2.31.0.2 in /usr/local/lib/python3.10/dist-packages (from langchainhub) (2.31.0.20240406)\n",
            "Requirement already satisfied: charset-normalizer<4,>=2 in /usr/local/lib/python3.10/dist-packages (from requests<3,>=2->langchainhub) (3.3.2)\n",
            "Requirement already satisfied: idna<4,>=2.5 in /usr/local/lib/python3.10/dist-packages (from requests<3,>=2->langchainhub) (3.7)\n",
            "Requirement already satisfied: urllib3<3,>=1.21.1 in /usr/local/lib/python3.10/dist-packages (from requests<3,>=2->langchainhub) (2.0.7)\n",
            "Requirement already satisfied: certifi>=2017.4.17 in /usr/local/lib/python3.10/dist-packages (from requests<3,>=2->langchainhub) (2024.2.2)\n",
            "Installing collected packages: langchainhub\n",
            "Successfully installed langchainhub-0.1.15\n"
          ]
        }
      ]
    },
    {
      "cell_type": "code",
      "source": [
        "from langchain.schema import (\n",
        "    SystemMessage,\n",
        "    HumanMessage,\n",
        "    AIMessage\n",
        ")"
      ],
      "metadata": {
        "id": "7JovOVo99lLp"
      },
      "execution_count": null,
      "outputs": []
    },
    {
      "cell_type": "code",
      "source": [
        "from langchain_core.output_parsers import StrOutputParser\n",
        "from langchain_core.runnables import RunnablePassthrough"
      ],
      "metadata": {
        "id": "pfIdguvp-v7l"
      },
      "execution_count": null,
      "outputs": []
    },
    {
      "cell_type": "code",
      "source": [
        "rag_chain = (\n",
        "        {\"context\": retriever | format_docs, \"question\": RunnablePassthrough()}\n",
        "        | custom_rag_prompt\n",
        "        | chat\n",
        "        | StrOutputParser()\n",
        "    )"
      ],
      "metadata": {
        "id": "oYcdzhqS992I"
      },
      "execution_count": null,
      "outputs": []
    },
    {
      "cell_type": "code",
      "source": [
        "user_query = \"Who is the Head of the Deaprtment\""
      ],
      "metadata": {
        "id": "PyOdKHZP-6hC"
      },
      "execution_count": null,
      "outputs": []
    },
    {
      "cell_type": "code",
      "source": [
        "rag_chain.invoke(user_query)"
      ],
      "metadata": {
        "id": "B8oMv272_Kmi",
        "outputId": "ee34c96c-1995-432b-d0ff-70683f0a82cb",
        "colab": {
          "base_uri": "https://localhost:8080/",
          "height": 36
        }
      },
      "execution_count": null,
      "outputs": [
        {
          "output_type": "execute_result",
          "data": {
            "text/plain": [
              "'The Head of the Department is Rejimol Robinson R R.'"
            ],
            "application/vnd.google.colaboratory.intrinsic+json": {
              "type": "string"
            }
          },
          "metadata": {},
          "execution_count": 32
        }
      ]
    },
    {
      "cell_type": "code",
      "source": [],
      "metadata": {
        "id": "3OG-iPP2_NES"
      },
      "execution_count": null,
      "outputs": []
    }
  ]
}